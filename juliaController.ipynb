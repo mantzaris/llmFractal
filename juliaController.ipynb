{
 "cells": [
  {
   "cell_type": "code",
   "execution_count": 1,
   "metadata": {},
   "outputs": [
    {
     "name": "stdout",
     "output_type": "stream",
     "text": [
      "howdy world\n"
     ]
    }
   ],
   "source": [
    "println(\"howdy world\")"
   ]
  },
  {
   "cell_type": "code",
   "execution_count": 2,
   "metadata": {},
   "outputs": [],
   "source": [
    "using CondaPkg\n",
    "using PythonCall\n"
   ]
  },
  {
   "cell_type": "code",
   "execution_count": 63,
   "metadata": {},
   "outputs": [
    {
     "name": "stderr",
     "output_type": "stream",
     "text": [
      "\u001b[32m\u001b[1m    CondaPkg \u001b[22m\u001b[39m\u001b[0mFound dependencies: /home/sweet/.julia/environments/v1.10/CondaPkg.toml\n",
      "\u001b[32m\u001b[1m    CondaPkg \u001b[22m\u001b[39m\u001b[0mFound dependencies: /home/sweet/.julia/packages/PythonCall/S5MOg/CondaPkg.toml\n",
      "\u001b[32m\u001b[1m    CondaPkg \u001b[22m\u001b[39m\u001b[0mResolving changes\n",
      "\u001b[32m\u001b[1m             \u001b[22m\u001b[39m\u001b[32m+ pillow\u001b[39m\n",
      "\u001b[32m\u001b[1m             \u001b[22m\u001b[39m\u001b[32m+ torch\u001b[39m\n",
      "\u001b[32m\u001b[1m             \u001b[22m\u001b[39m\u001b[32m+ transformers\u001b[39m\n",
      "\u001b[32m\u001b[1m    CondaPkg \u001b[22m\u001b[39m\u001b[0mInstalling packages\n",
      "\u001b[32m\u001b[1m             \u001b[22m\u001b[39m│ \u001b[90m/home/sweet/.julia/artifacts/7973f2c7725e2d0eef7a95159454c4145f0945a2/bin/micromamba\u001b[39m\n",
      "\u001b[32m\u001b[1m             \u001b[22m\u001b[39m│ \u001b[90m-r /home/sweet/.julia/scratchspaces/0b3b1443-0f03-428d-bdfb-f27f9c1191ea/root\u001b[39m\n",
      "\u001b[32m\u001b[1m             \u001b[22m\u001b[39m│ \u001b[90minstall\u001b[39m\n",
      "\u001b[32m\u001b[1m             \u001b[22m\u001b[39m│ \u001b[90m-y\u001b[39m\n",
      "\u001b[32m\u001b[1m             \u001b[22m\u001b[39m│ \u001b[90m-p /home/sweet/.julia/environments/v1.10/.CondaPkg/env\u001b[39m\n",
      "\u001b[32m\u001b[1m             \u001b[22m\u001b[39m│ \u001b[90m--override-channels\u001b[39m\n",
      "\u001b[32m\u001b[1m             \u001b[22m\u001b[39m│ \u001b[90m--no-channel-priority\u001b[39m\n",
      "\u001b[32m\u001b[1m             \u001b[22m\u001b[39m│ \u001b[90mlibstdcxx-ng[version='>=3.4,<13.0']\u001b[39m\n",
      "\u001b[32m\u001b[1m             \u001b[22m\u001b[39m│ \u001b[90mopenai[version='*']\u001b[39m\n",
      "\u001b[32m\u001b[1m             \u001b[22m\u001b[39m│ \u001b[90mpillow[version='*']\u001b[39m\n",
      "\u001b[32m\u001b[1m             \u001b[22m\u001b[39m│ \u001b[90mpython[version='>=3.8,<4',channel='conda-forge',build='*cpython*']\u001b[39m\n",
      "\u001b[32m\u001b[1m             \u001b[22m\u001b[39m│ \u001b[90mpython-dotenv[version='*']\u001b[39m\n",
      "\u001b[32m\u001b[1m             \u001b[22m\u001b[39m│ \u001b[90mtorch[version='*']\u001b[39m\n",
      "\u001b[32m\u001b[1m             \u001b[22m\u001b[39m│ \u001b[90mtransformers[version='*']\u001b[39m\n",
      "\u001b[32m\u001b[1m             \u001b[22m\u001b[39m└ \u001b[90m-c conda-forge\u001b[39m\n",
      "error    libmamba Could not solve for environment specs\n",
      "    The following package could not be installed\n",
      "    └─ torch *  does not exist (perhaps a typo or a missing channel).\n",
      "critical libmamba Could not solve for environment specs\n"
     ]
    },
    {
     "ename": "ProcessFailedException",
     "evalue": "failed process: Process(`/home/sweet/.julia/artifacts/7973f2c7725e2d0eef7a95159454c4145f0945a2/bin/micromamba -r /home/sweet/.julia/scratchspaces/0b3b1443-0f03-428d-bdfb-f27f9c1191ea/root install -y -p /home/sweet/.julia/environments/v1.10/.CondaPkg/env --override-channels --no-channel-priority \"libstdcxx-ng[version='>=3.4,<13.0']\" \"openai[version='*']\" \"pillow[version='*']\" \"python[version='>=3.8,<4',channel='conda-forge',build='*cpython*']\" \"python-dotenv[version='*']\" \"torch[version='*']\" \"transformers[version='*']\" -c conda-forge`, ProcessExited(1)) [1]\n",
     "output_type": "error",
     "traceback": [
      "failed process: Process(`/home/sweet/.julia/artifacts/7973f2c7725e2d0eef7a95159454c4145f0945a2/bin/micromamba -r /home/sweet/.julia/scratchspaces/0b3b1443-0f03-428d-bdfb-f27f9c1191ea/root install -y -p /home/sweet/.julia/environments/v1.10/.CondaPkg/env --override-channels --no-channel-priority \"libstdcxx-ng[version='>=3.4,<13.0']\" \"openai[version='*']\" \"pillow[version='*']\" \"python[version='>=3.8,<4',channel='conda-forge',build='*cpython*']\" \"python-dotenv[version='*']\" \"torch[version='*']\" \"transformers[version='*']\" -c conda-forge`, ProcessExited(1)) [1]\n",
      "\n",
      "\n",
      "Stacktrace:\n",
      "  [1] pipeline_error\n",
      "    @ ./process.jl:565 [inlined]\n",
      "  [2] run(::Cmd; wait::Bool)\n",
      "    @ Base ./process.jl:480\n",
      "  [3] run(::Cmd)\n",
      "    @ Base ./process.jl:477\n",
      "  [4] _run(io::IO, cmd::Cmd, args::Any; flags::Any)\n",
      "    @ CondaPkg ~/.julia/packages/CondaPkg/iPD6F/src/resolve.jl:464\n",
      "  [5] _resolve_conda_install(io::Any, conda_env::Any, specs::Any, channels::Any; create::Any)\n",
      "    @ CondaPkg ~/.julia/packages/CondaPkg/iPD6F/src/resolve.jl:349\n",
      "  [6] _resolve_conda_install(io::Any, conda_env::Any, specs::Any, channels::Any)\n",
      "    @ CondaPkg ~/.julia/packages/CondaPkg/iPD6F/src/resolve.jl:334\n",
      "  [7] resolve(; force::Bool, io::IO, interactive::Bool, dry_run::Bool)\n",
      "    @ CondaPkg ~/.julia/packages/CondaPkg/iPD6F/src/resolve.jl:617\n",
      "  [8] resolve()\n",
      "    @ CondaPkg ~/.julia/packages/CondaPkg/iPD6F/src/resolve.jl:471\n",
      "  [9] add(pkgs::AbstractVector; channel::Any, resolve::Any, file::Any, kw...)\n",
      "    @ CondaPkg ~/.julia/packages/CondaPkg/iPD6F/src/deps.jl:236\n",
      " [10] add(pkgs::AbstractVector)\n",
      "    @ CondaPkg ~/.julia/packages/CondaPkg/iPD6F/src/deps.jl:222\n",
      " [11] top-level scope\n",
      "    @ ~/Documents/repos/llmFractal/juliaController.ipynb:2"
     ]
    }
   ],
   "source": [
    "# CondaPkg.add([\"openai\", \"python-dotenv\"])\n",
    "CondaPkg.add([\"transformers\", \"torch\", \"pillow\"])"
   ]
  },
  {
   "cell_type": "code",
   "execution_count": 59,
   "metadata": {},
   "outputs": [
    {
     "name": "stdout",
     "output_type": "stream",
     "text": [
      "from python\n"
     ]
    }
   ],
   "source": [
    "pyimport(\"sys\").path.append(\"/home/sweet/Documents/repos/llmFractal\")\n",
    "analyze_fractal = pyimport(\"analyze_fractal\")\n",
    "analyze_fractal = pyimport(\"importlib\").reload(pyimport(\"analyze_fractal\"))\n",
    "result = analyze_fractal.test1()\n",
    "\n",
    "println(result)\n"
   ]
  },
  {
   "cell_type": "code",
   "execution_count": 60,
   "metadata": {},
   "outputs": [
    {
     "data": {
      "text/plain": [
       "Python: '/home/sweet/.julia/environments/v1.10/.CondaPkg/env/bin/python'"
      ]
     },
     "metadata": {},
     "output_type": "display_data"
    }
   ],
   "source": [
    "analyze_fractal.check_python_env()"
   ]
  },
  {
   "cell_type": "code",
   "execution_count": 61,
   "metadata": {},
   "outputs": [
    {
     "data": {
      "text/plain": [
       "Python: 'from python 2nd yay'"
      ]
     },
     "metadata": {},
     "output_type": "display_data"
    }
   ],
   "source": [
    "analyze_fractal.test2()"
   ]
  },
  {
   "cell_type": "code",
   "execution_count": 62,
   "metadata": {},
   "outputs": [
    {
     "data": {
      "text/plain": [
       "Python: 'Failed to get a response due to rate limit or API error.'"
      ]
     },
     "metadata": {},
     "output_type": "display_data"
    }
   ],
   "source": [
    "analyze_fractal.ask_how_are_you()"
   ]
  },
  {
   "cell_type": "code",
   "execution_count": 8,
   "metadata": {},
   "outputs": [],
   "source": []
  },
  {
   "cell_type": "code",
   "execution_count": 9,
   "metadata": {},
   "outputs": [],
   "source": []
  },
  {
   "cell_type": "code",
   "execution_count": null,
   "metadata": {},
   "outputs": [],
   "source": []
  }
 ],
 "metadata": {
  "kernelspec": {
   "display_name": "Julia 1.10.4",
   "language": "julia",
   "name": "julia-1.10"
  },
  "language_info": {
   "file_extension": ".jl",
   "mimetype": "application/julia",
   "name": "julia",
   "version": "1.10.4"
  }
 },
 "nbformat": 4,
 "nbformat_minor": 2
}
